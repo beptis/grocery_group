{
  "cells": [
    {
      "cell_type": "code",
      "execution_count": null,
      "metadata": {
        "id": "wkjFAlThDP1q"
      },
      "outputs": [],
      "source": [
        "# Grocery Sales Database EDA (Working Title)\n",
        "# Presented by Michael, Eduardo, Terkula, Alexander, and Lu"
      ]
    },
    {
      "cell_type": "code",
      "execution_count": null,
      "metadata": {
        "id": "xrUGUeqyIxLv"
      },
      "outputs": [],
      "source": [
        "# Database can be found at https://www.kaggle.com/datasets/andrexibiza/grocery-sales-dataset"
      ]
    },
    {
      "cell_type": "code",
      "execution_count": null,
      "metadata": {
        "id": "Xl0Z5mOfI-4q"
      },
      "outputs": [],
      "source": [
        "# Questions\n",
        "# What is the best-selling food product?\n",
        "#     ... in the Northeast?\n",
        "#     ... in the South?\n",
        "#     ... in the Midwest?\n",
        "#     ... in the Southwest?\n",
        "#     ... in the Northwest?\n",
        "#     ... outside the contiguous US states?\n",
        "# What is the best-selling non-food product?\n",
        "#     ... in the Northeast?\n",
        "#     ... in the South?\n",
        "#     ... in the Midwest?\n",
        "#     ... in the Southwest?\n",
        "#     ... in the Northwest?\n",
        "#     ... outside the contiguous US states?\n",
        "# What is the average cart value per customer?\n",
        "#     ... can also be broken down per region\n",
        "# What % of customers are repeat customers?\n",
        "# What region had the most repeat customers?\n",
        "# Which was the most popular seasonal product?\n",
        "# What is the average store sales volume?\n",
        "# How many stores exceeded average sales volume?\n",
        "# When is customer volume highest?\n",
        "#     ... per day?\n",
        "#     ... per week?\n",
        "#     ... per month?\n",
        "#     ... per quarter?\n",
        "# When were sales highest?\n",
        "#      ... per day?\n",
        "#      ... per week?\n",
        "#      ... per month?\n",
        "#      ... per quarter?\n",
        "# Which flavor ice cream was most popular?\n",
        "\n",
        "\n"
      ]
    },
    {
      "cell_type": "code",
      "execution_count": null,
      "metadata": {
        "id": "RdyL0wpKJF1i"
      },
      "outputs": [],
      "source": [
        "# Data visualizations\n",
        "# 1.\n",
        "# 2.\n",
        "# 3.\n",
        "# 4.\n",
        "# 5.\n",
        "# 6.\n",
        "# 7.\n",
        "# 8.\n",
        "# (more as needed)testing"
      ]
    },
    {
      "cell_type": "code",
      "execution_count": null,
      "metadata": {
        "id": "XHQSmCqPQ_3E"
      },
      "outputs": [],
      "source": [
        "# Who's Doing What?\n",
        "# Michael:\n",
        "# Eduardo:\n",
        "# Ter:\n",
        "# Alexander:\n",
        "# Lu:"
      ]
    }
  ],
  "metadata": {
    "colab": {
      "provenance": []
    },
    "kernelspec": {
      "display_name": "Python 3",
      "name": "python3"
    },
    "language_info": {
      "name": "python"
    }
  },
  "nbformat": 4,
  "nbformat_minor": 0
}
