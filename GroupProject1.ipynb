{
  "nbformat": 4,
  "nbformat_minor": 0,
  "metadata": {
    "colab": {
      "provenance": []
    },
    "kernelspec": {
      "name": "python3",
      "display_name": "Python 3"
    },
    "language_info": {
      "name": "python"
    }
  },
  "cells": [
    {
      "cell_type": "code",
      "execution_count": null,
      "metadata": {
        "id": "wkjFAlThDP1q"
      },
      "outputs": [],
      "source": [
        "# Grocery Sales Database EDA (Working Title)\n",
        "# Presented by Michael, Eduardo, Terkula, Alexander, and Lu"
      ]
    },
    {
      "cell_type": "code",
      "source": [
        "# Database can be found at https://www.kaggle.com/datasets/andrexibiza/grocery-sales-dataset"
      ],
      "metadata": {
        "id": "xrUGUeqyIxLv"
      },
      "execution_count": null,
      "outputs": []
    },
    {
      "cell_type": "code",
      "source": [
        "# Questions\n",
        "# What is the best-selling food product?\n",
        "#     ... in the Northeast?\n",
        "#     ... in the South?\n",
        "#     ... in the Midwest?\n",
        "#     ... in the Southwest?\n",
        "#     ... in the Northwest?\n",
        "#     ... outside the contiguous US states?\n",
<<<<<<< Updated upstream
        "# What is the best-selling non-food product?\n",
=======
        "\n",
        "# 2) What is the best-selling non-food product?\n",
>>>>>>> Stashed changes
        "#     ... in the Northeast?\n",
        "#     ... in the South?\n",
        "#     ... in the Midwest?\n",
        "#     ... in the Southwest?\n",
        "#     ... in the Northwest?\n",
        "#     ... outside the contiguous US states?\n",
<<<<<<< Updated upstream
        "# What is the average cart value per customer?\n",
        "#     ... can also be broken down per region\n",
        "# What % of customers are repeat customers?\n",
        "# What region had the most repeat customers?\n",
        "# Which was the most popular seasonal product?\n",
        "# What is the average store sales volume?\n",
        "# How many stores exceeded average sales volume?\n",
        "# When is customer volume highest?\n",
=======
        "\n",
        "# 3) What is the average cart value per customer?\n",
        "#     ... in the Northeast?\n",
        "#     ... in the South?\n",
        "#     ... in the Midwest?\n",
        "#     ... in the Southwest?\n",
        "#     ... in the Northwest?\n",
        "#     ... outside the contiguous US states?\n",
        "\n",
        "\n",
        "# 4) What % of customers are repeat customers?\n",
        "# 5)  What region had the most repeat customers?\n",
        "\n",
        "# 6) What is the average store sales volume?\n",
        "# 6a) How many stores exceeded average sales volume?\n",
        "# 6b) How many stores fell below average sales volume?\n",
        "\n",
        "\n",
        "# 7) When is customer volume highest?\n",
>>>>>>> Stashed changes
        "#     ... per day?\n",
        "#     ... per week?\n",
        "#     ... per month?\n",
        "#     ... per quarter?\n",
<<<<<<< Updated upstream
        "# When were sales highest?\n",
=======
        "# 8) When were sales highest?\n",
>>>>>>> Stashed changes
        "#      ... per day?\n",
        "#      ... per week?\n",
        "#      ... per month?\n",
        "#      ... per quarter?\n",
<<<<<<< Updated upstream
        "# Which flavor ice cream was most popular?\n",
=======
        "\n",
        "\n",
        "# 9) Which flavor ice cream was most popular?\n",
        "# 10) Which was the most popular seasonal product?\n",
>>>>>>> Stashed changes
        "\n",
        "\n"
      ],
      "metadata": {
        "id": "Xl0Z5mOfI-4q"
      },
      "execution_count": null,
      "outputs": []
    },
    {
      "cell_type": "code",
      "source": [
        "# Data visualizations\n",
        "# 1.\n",
        "# 2.\n",
        "# 3.\n",
        "# 4.\n",
        "# 5.\n",
        "# 6.\n",
        "# 7.\n",
        "# 8.\n",
<<<<<<< Updated upstream
        "# (more as needed)testing"
      ],
      "metadata": {
        "id": "RdyL0wpKJF1i"
      },
      "execution_count": null,
      "outputs": []
=======
        "# 9.\n",
        "# 10. "
      ]
>>>>>>> Stashed changes
    },
    {
      "cell_type": "code",
      "source": [
        "# Who's Doing What?\n",
<<<<<<< Updated upstream
        "# Michael:\n",
        "# Eduardo:\n",
        "# Ter:\n",
        "# Alexander:\n",
        "# Lu:"
      ],
      "metadata": {
        "id": "XHQSmCqPQ_3E"
      },
      "execution_count": null,
      "outputs": []
=======
        "# Michael: 4 + 5 \n",
        "# Eduardo: 7 + 8 \n",
        "# Ter: 9 + 10 + other outliers(?)\n",
        "# Alexander: 1 + 2 \n",
        "# Lu: 3 + 6"
      ]
>>>>>>> Stashed changes
    }
  ]
}