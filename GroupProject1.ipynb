{
  "nbformat": 4,
  "nbformat_minor": 0,
  "metadata": {
    "colab": {
      "provenance": []
    },
    "kernelspec": {
      "name": "python3",
      "display_name": "Python 3"
    },
    "language_info": {
      "name": "python"
    }
  },
  "cells": [
    {
      "cell_type": "code",
      "execution_count": null,
      "metadata": {
        "id": "wkjFAlThDP1q"
      },
      "outputs": [],
      "source": [
        "# Grocery Sales Database EDA (Working Title)\n",
        "# Presented by Michael, Eduardo, Terkula, Alexander, and Lu"
      ]
    },
    {
      "cell_type": "code",
      "source": [
        "# Database can be found at https://www.kaggle.com/datasets/andrexibiza/grocery-sales-dataset"
      ],
      "metadata": {
        "id": "xrUGUeqyIxLv"
      },
      "execution_count": null,
      "outputs": []
    },
    {
      "cell_type": "code",
      "source": [
        "# Questions\n",
        "# What is the best-selling food product?\n",
        "#     ... in the Northeast?\n",
        "#     ... in the South?\n",
        "#     ... in the Midwest?\n",
        "#     ... in the Southwest?\n",
        "#     ... in the Northwest?\n",
        "#     ... outside the contiguous US states?\n",
        "# What is the best-selling non-food product?\n",
        "#     ... in the Northeast?\n",
        "#     ... in the South?\n",
        "#     ... in the Midwest?\n",
        "#     ... in the Southwest?\n",
        "#     ... in the Northwest?\n",
        "#     ... outside the contiguous US states?\n",
        "# What is the average cart value per customer?\n",
        "#     ... can also be broken down per region\n",
        "# What % of customers are repeat customers?\n",
        "# What region had the most repeat customers?\n",
        "# Which was the most popular seasonal product?\n",
        "# What is the average store sales volume?\n",
        "# How many stores exceeded average sales volume?\n",
        "# When is customer volume highest?\n",
        "#     ... per day?\n",
        "#     ... per week?\n",
        "#     ... per month?\n",
        "#     ... per quarter?\n",
        "# When were sales highest?\n",
        "#      ... per day?\n",
        "#      ... per week?\n",
        "#      ... per month?\n",
        "#      ... per quarter?\n",
        "# Which flavor ice cream was most popular?\n",
        "\n",
        "\n"
      ],
      "metadata": {
        "id": "Xl0Z5mOfI-4q"
      },
      "execution_count": null,
      "outputs": []
    },
    {
      "cell_type": "code",
      "source": [
        "# Data visualizations\n",
        "# 1.\n",
        "# 2.\n",
        "# 3.\n",
        "# 4.\n",
        "# 5.\n",
        "# 6.\n",
        "# 7.\n",
        "# 8.\n",
        "# (more as needed)testing"
      ],
      "metadata": {
        "id": "RdyL0wpKJF1i"
      },
      "execution_count": null,
      "outputs": []
    },
    {
      "cell_type": "code",
      "source": [
        "# Who's Doing What?\n",
        "# Michael:\n",
        "# Eduardo:\n",
        "# Ter:\n",
        "# Alexander:\n",
        "# Lu:"
      ],
      "metadata": {
        "id": "XHQSmCqPQ_3E"
      },
      "execution_count": null,
      "outputs": []
    }
  ]
}