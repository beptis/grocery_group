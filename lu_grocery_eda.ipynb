{
 "cells": [
  {
   "cell_type": "code",
   "execution_count": 3,
   "metadata": {},
   "outputs": [],
   "source": [
    "# Import the necessary modules\n",
    "import pandas as pd\n",
    "import numpy as np\n",
    "import matplotlib as plt\n",
    "from prophet import Prophet\n",
    "import seaborn as sns\n",
    "\n",
    "\n",
    "# My questions:\n",
    "# # 3) What is the average cart value per customer?\n",
    "#     ... in the Northeast?\n",
    "#     ... in the South?\n",
    "#     ... in the Midwest?\n",
    "#     ... in the Southwest?\n",
    "#     ... in the Northwest?\n",
    "#     ... outside the contiguous US states?\n",
    "#\n",
    "# 6) What is the average city sales volume?\n",
    "#     ... in the Northeast?\n",
    "#     ... in the South?\n",
    "#     ... in the Midwest?\n",
    "#     ... in the Southwest?\n",
    "#     ... in the Northwest?\n",
    "#     ... outside the contiguous US states?\n"
   ]
  },
  {
   "cell_type": "code",
   "execution_count": null,
   "metadata": {},
   "outputs": [],
   "source": [
    "# Loading the file data in\n",
    "\n",
    "sales_df = pd.read_csv('sales.csv')\n",
    "products_df = pd.read_csv('products.csv')\n",
    "customers_df = pd.read_csv('customers.csv')\n",
    "cities_df = pd.read_csv('cities.csv')\n",
    "countries_df = pd.read_csv('countries.csv')\n"
   ]
  },
  {
   "cell_type": "code",
   "execution_count": null,
   "metadata": {},
   "outputs": [],
   "source": [
    "# Region mapping dictionary\n",
    "\n",
    "region_mapping = {\n",
    "    'Northeast': [\n",
    "        'Connecticut', 'Maine', 'Massachusetts', 'New Hampshire', 'Rhode Island', \n",
    "        'Vermont', 'New Jersey', 'New York', 'Pennsylvania'\n",
    "    ],\n",
    "    'Midwest': [\n",
    "        'Illinois', 'Indiana', 'Michigan', 'Ohio', 'Wisconsin', 'Iowa',\n",
    "        'Kansas', 'Minnesota', 'Missouri', 'Nebraska', 'North Dakota', 'South Dakota'\n",
    "    ],\n",
    "    'South': [\n",
    "        'Delaware', 'Florida', 'Georgia', 'Maryland', 'North Carolina', \n",
    "        'South Carolina', 'Virginia', 'West Virginia', 'Alabama', 'Kentucky',\n",
    "        'Mississippi', 'Tennessee', 'Arkansas', 'Louisiana', 'Oklahoma', 'Texas'\n",
    "    ],\n",
    "    'West': [\n",
    "        'Arizona', 'Colorado', 'Idaho', 'Montana', 'Nevada', 'New Mexico',\n",
    "        'Utah', 'Wyoming', 'Alaska', 'California', 'Hawaii', 'Oregon', 'Washington'\n",
    "    ]\n",
    "}\n",
    "\n",
    "non_contiguous = ['Alaska', 'Hawaii']\n",
    "\n",
    "# Converting region_mapping to state-to-region format\n",
    "\n",
    "state_to_region = {\n",
    "    state: region\n",
    "    for region, states in region_mapping.items()\n",
    "    for state in states\n",
    "}"
   ]
  },
  {
   "cell_type": "code",
   "execution_count": 10,
   "metadata": {},
   "outputs": [],
   "source": [
    "# Calculating the actual price of each sale (accounting for quantity and discount)\n",
    "sales_with_products = sales_df.merge(products_df[['ProductID', 'Price']], on='ProductID')\n",
    "sales_with_products['actual_price'] = (\n",
    "    sales_with_products['Price'] * \n",
    "    sales_with_products['Quantity'] * \n",
    "    (1 - sales_with_products['Discount'])\n",
    ")"
   ]
  }
 ],
 "metadata": {
  "kernelspec": {
   "display_name": "python_workspace",
   "language": "python",
   "name": "python3"
  },
  "language_info": {
   "codemirror_mode": {
    "name": "ipython",
    "version": 3
   },
   "file_extension": ".py",
   "mimetype": "text/x-python",
   "name": "python",
   "nbconvert_exporter": "python",
   "pygments_lexer": "ipython3",
   "version": "3.13.1"
  }
 },
 "nbformat": 4,
 "nbformat_minor": 2
}
